{
 "cells": [
  {
   "attachments": {},
   "cell_type": "markdown",
   "metadata": {},
   "source": [
    "#### 1/n Plot, Shift-Log-Log template"
   ]
  },
  {
   "cell_type": "code",
   "execution_count": 3,
   "metadata": {},
   "outputs": [
    {
     "name": "stdout",
     "output_type": "stream",
     "text": [
      "The autoreload extension is already loaded. To reload it, use:\n",
      "  %reload_ext autoreload\n"
     ]
    }
   ],
   "source": [
    "from pathlib import Path\n",
    "\n",
    "import numpy as np\n",
    "import matplotlib.pyplot as plt\n",
    "import pandas as pd\n",
    "\n",
    "import warnings\n",
    "warnings.simplefilter('ignore')\n",
    "# warnings.resetwarnings()\n",
    "# warnings.simplefilter('ignore', FutureWarning)\n",
    "\n",
    "from pfit import power_fit as powfit\n",
    "\n",
    "%load_ext autoreload\n",
    "%autoreload 2"
   ]
  },
  {
   "cell_type": "code",
   "execution_count": null,
   "metadata": {},
   "outputs": [],
   "source": [
    "# 1/n \n",
    "file_name = r''\n",
    "df_invn = pd.read_csv(file_name)\n",
    "\n",
    "x_data = df_invn[\"\"].values \n",
    "y_data = df_invn[\"\"].values\n",
    "\n",
    "#-------\n",
    "# print('1/n Plot')\n",
    "\n",
    "search_n_list = [2,3] # n=2,3\n",
    "inv_n = powfit.PfAnalysis(x_data,y_data)\n",
    "\n",
    "inv_n.shift_estimate_by_power_scan(search_range=search_n_list,\n",
    "                                        zero_replace=True,\n",
    "                                        info=False, \n",
    "                                        min_error='mae',\n",
    "                                        likely_evaluation='r2',\n",
    "                                        plot=True)\n",
    "    \n",
    "# print(inv_n.shebypw[\"popt\"][2]**inv_n.shebypw[\"power\"])\n",
    "# print(inv_n.shebypw[\"fit\"])\n",
    "print(f'shift: {inv_n.shebypw[\"shift\"]:.2f}, power: {inv_n.shebypw[\"power\"]:.2f}, r2:{inv_n.shebypw[\"r2\"]:.2f}')\n"
   ]
  },
  {
   "cell_type": "code",
   "execution_count": null,
   "metadata": {},
   "outputs": [],
   "source": [
    "# Shift-Log-Log\n",
    "\n",
    "im = 0.3\n",
    "# im=0.5\n",
    "\n",
    "\n",
    "sll = powfit.PfAnalysis(x_data,y_data)\n",
    "# print('Constant Power')\n",
    "sll.shift_estimate_by_power_scan(search_range=[2,3,4,],\n",
    "                                zero_replace=True,\n",
    "                                info=False, \n",
    "                                min_error='mae',\n",
    "                                plot=True)\n",
    "\n",
    "# print(temp.shebypw[\"popt\"][2]**temp.shebypw[\"power\"])\n",
    "# print(temp.shebypw[\"fit\"])\n",
    "print(f'shift: {sll.shebypw[\"shift\"]:.2f}, power: {sll.shebypw[\"power\"]:.2f}, r2:{sll.shebypw[\"r2\"]:.2f}')\n",
    "bg1 = np.mean(sll.ydata[:5])\n",
    "bg2 = sll.shebypw[\"popt\"][2]**sll.shebypw[\"power\"]\n",
    "print(f'popt bg:{sll.shebypw[\"popt\"][2]:.3f}')\n",
    "print(f'bg1:{bg1:.3f}')\n",
    "print(f'bg2 from fit :{bg2:.3f}')\n",
    "\n",
    "if bg2 <= 0:\n",
    "    bg2 = 0\n",
    "sll.ydata = sll.ydata - bg2 # fittingした値でBgを引く\n",
    "\n",
    "search_shift_list= powfit.create_serach_range(sll.shebypw[\"shift\"], 0.5, 0.1)\n",
    "\n",
    "sll.power_estimate_by_shift_scan(search_range=search_shift_list, \n",
    "                                fit_type='mae', \n",
    "                                # fit_type='weight',\n",
    "                                lim_val=im,\n",
    "                                info=False,\n",
    "                                plot=True,\n",
    "                                plot_fig_step=2)\n",
    "    \n",
    "    # print(f'Const Power: shift: {temp.shebypw[\"shift\"]:.2f}, power: {temp.shebypw[\"power\"]:.2f}')\n",
    "# print(f'Const Shift: shift: {temp.pwebysh[\"shift\"]:.2f}, power: {temp.pwebysh[\"power\"]:.2f}')\n",
    "print(f'Margin: {im}, shift: {sll.pwebysh[\"shift\"]:.2f}, power: {sll.pwebysh[\"power\"]:.2f}')\n",
    "print(f'R2: {sll.pwebysh[\"r2\"]:.2f}, ER: {sll.pwebysh[\"er\"]:.2f}')"
   ]
  },
  {
   "cell_type": "code",
   "execution_count": null,
   "metadata": {},
   "outputs": [],
   "source": []
  }
 ],
 "metadata": {
  "kernelspec": {
   "display_name": "Python 3.7.1 ('base')",
   "language": "python",
   "name": "python3"
  },
  "language_info": {
   "codemirror_mode": {
    "name": "ipython",
    "version": 3
   },
   "file_extension": ".py",
   "mimetype": "text/x-python",
   "name": "python",
   "nbconvert_exporter": "python",
   "pygments_lexer": "ipython3",
   "version": "3.10.11"
  },
  "orig_nbformat": 4,
  "vscode": {
   "interpreter": {
    "hash": "b66da06cecefeedcb0375b3971526220e456f8615e08c7fc3d59ab7f27c37be5"
   }
  }
 },
 "nbformat": 4,
 "nbformat_minor": 2
}
